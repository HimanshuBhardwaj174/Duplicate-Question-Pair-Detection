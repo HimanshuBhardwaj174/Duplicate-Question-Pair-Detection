{
 "cells": [
  {
   "cell_type": "code",
   "execution_count": 1,
   "id": "Cw1jb_zhUPGB",
   "metadata": {
    "colab": {
     "base_uri": "https://localhost:8080/"
    },
    "id": "Cw1jb_zhUPGB",
    "outputId": "3db7f0c7-c64e-422b-ff31-f682127fa85f"
   },
   "outputs": [
    {
     "name": "stdout",
     "output_type": "stream",
     "text": [
      "Mounted at /content/drive\n"
     ]
    }
   ],
   "source": [
    "from google.colab import drive\n",
    "drive.mount('/content/drive')"
   ]
  },
  {
   "cell_type": "markdown",
   "id": "75bd54bb-31fc-412e-9e55-b09d9825b331",
   "metadata": {
    "id": "75bd54bb-31fc-412e-9e55-b09d9825b331"
   },
   "source": [
    "## Imports"
   ]
  },
  {
   "cell_type": "code",
   "execution_count": 2,
   "id": "c5ad422d-d28b-4358-aaea-e48a196ec213",
   "metadata": {
    "colab": {
     "base_uri": "https://localhost:8080/",
     "height": 206
    },
    "id": "c5ad422d-d28b-4358-aaea-e48a196ec213",
    "outputId": "92b201af-7b9c-4892-d81d-a73716c00f77"
   },
   "outputs": [
    {
     "data": {
      "application/vnd.google.colaboratory.intrinsic+json": {
       "type": "dataframe",
       "variable_name": "df"
      },
      "text/html": [
       "\n",
       "  <div id=\"df-01ec2b05-0e1c-4bb4-af5f-db3010d8c8e0\" class=\"colab-df-container\">\n",
       "    <div>\n",
       "<style scoped>\n",
       "    .dataframe tbody tr th:only-of-type {\n",
       "        vertical-align: middle;\n",
       "    }\n",
       "\n",
       "    .dataframe tbody tr th {\n",
       "        vertical-align: top;\n",
       "    }\n",
       "\n",
       "    .dataframe thead th {\n",
       "        text-align: right;\n",
       "    }\n",
       "</style>\n",
       "<table border=\"1\" class=\"dataframe\">\n",
       "  <thead>\n",
       "    <tr style=\"text-align: right;\">\n",
       "      <th></th>\n",
       "      <th>id</th>\n",
       "      <th>qid1</th>\n",
       "      <th>qid2</th>\n",
       "      <th>question1</th>\n",
       "      <th>question2</th>\n",
       "      <th>is_duplicate</th>\n",
       "    </tr>\n",
       "  </thead>\n",
       "  <tbody>\n",
       "    <tr>\n",
       "      <th>0</th>\n",
       "      <td>0</td>\n",
       "      <td>1</td>\n",
       "      <td>2</td>\n",
       "      <td>What is the step by step guide to invest in sh...</td>\n",
       "      <td>What is the step by step guide to invest in sh...</td>\n",
       "      <td>0</td>\n",
       "    </tr>\n",
       "    <tr>\n",
       "      <th>1</th>\n",
       "      <td>1</td>\n",
       "      <td>3</td>\n",
       "      <td>4</td>\n",
       "      <td>What is the story of Kohinoor (Koh-i-Noor) Dia...</td>\n",
       "      <td>What would happen if the Indian government sto...</td>\n",
       "      <td>0</td>\n",
       "    </tr>\n",
       "    <tr>\n",
       "      <th>2</th>\n",
       "      <td>2</td>\n",
       "      <td>5</td>\n",
       "      <td>6</td>\n",
       "      <td>How can I increase the speed of my internet co...</td>\n",
       "      <td>How can Internet speed be increased by hacking...</td>\n",
       "      <td>0</td>\n",
       "    </tr>\n",
       "    <tr>\n",
       "      <th>3</th>\n",
       "      <td>3</td>\n",
       "      <td>7</td>\n",
       "      <td>8</td>\n",
       "      <td>Why am I mentally very lonely? How can I solve...</td>\n",
       "      <td>Find the remainder when [math]23^{24}[/math] i...</td>\n",
       "      <td>0</td>\n",
       "    </tr>\n",
       "    <tr>\n",
       "      <th>4</th>\n",
       "      <td>4</td>\n",
       "      <td>9</td>\n",
       "      <td>10</td>\n",
       "      <td>Which one dissolve in water quikly sugar, salt...</td>\n",
       "      <td>Which fish would survive in salt water?</td>\n",
       "      <td>0</td>\n",
       "    </tr>\n",
       "  </tbody>\n",
       "</table>\n",
       "</div>\n",
       "    <div class=\"colab-df-buttons\">\n",
       "\n",
       "  <div class=\"colab-df-container\">\n",
       "    <button class=\"colab-df-convert\" onclick=\"convertToInteractive('df-01ec2b05-0e1c-4bb4-af5f-db3010d8c8e0')\"\n",
       "            title=\"Convert this dataframe to an interactive table.\"\n",
       "            style=\"display:none;\">\n",
       "\n",
       "  <svg xmlns=\"http://www.w3.org/2000/svg\" height=\"24px\" viewBox=\"0 -960 960 960\">\n",
       "    <path d=\"M120-120v-720h720v720H120Zm60-500h600v-160H180v160Zm220 220h160v-160H400v160Zm0 220h160v-160H400v160ZM180-400h160v-160H180v160Zm440 0h160v-160H620v160ZM180-180h160v-160H180v160Zm440 0h160v-160H620v160Z\"/>\n",
       "  </svg>\n",
       "    </button>\n",
       "\n",
       "  <style>\n",
       "    .colab-df-container {\n",
       "      display:flex;\n",
       "      gap: 12px;\n",
       "    }\n",
       "\n",
       "    .colab-df-convert {\n",
       "      background-color: #E8F0FE;\n",
       "      border: none;\n",
       "      border-radius: 50%;\n",
       "      cursor: pointer;\n",
       "      display: none;\n",
       "      fill: #1967D2;\n",
       "      height: 32px;\n",
       "      padding: 0 0 0 0;\n",
       "      width: 32px;\n",
       "    }\n",
       "\n",
       "    .colab-df-convert:hover {\n",
       "      background-color: #E2EBFA;\n",
       "      box-shadow: 0px 1px 2px rgba(60, 64, 67, 0.3), 0px 1px 3px 1px rgba(60, 64, 67, 0.15);\n",
       "      fill: #174EA6;\n",
       "    }\n",
       "\n",
       "    .colab-df-buttons div {\n",
       "      margin-bottom: 4px;\n",
       "    }\n",
       "\n",
       "    [theme=dark] .colab-df-convert {\n",
       "      background-color: #3B4455;\n",
       "      fill: #D2E3FC;\n",
       "    }\n",
       "\n",
       "    [theme=dark] .colab-df-convert:hover {\n",
       "      background-color: #434B5C;\n",
       "      box-shadow: 0px 1px 3px 1px rgba(0, 0, 0, 0.15);\n",
       "      filter: drop-shadow(0px 1px 2px rgba(0, 0, 0, 0.3));\n",
       "      fill: #FFFFFF;\n",
       "    }\n",
       "  </style>\n",
       "\n",
       "    <script>\n",
       "      const buttonEl =\n",
       "        document.querySelector('#df-01ec2b05-0e1c-4bb4-af5f-db3010d8c8e0 button.colab-df-convert');\n",
       "      buttonEl.style.display =\n",
       "        google.colab.kernel.accessAllowed ? 'block' : 'none';\n",
       "\n",
       "      async function convertToInteractive(key) {\n",
       "        const element = document.querySelector('#df-01ec2b05-0e1c-4bb4-af5f-db3010d8c8e0');\n",
       "        const dataTable =\n",
       "          await google.colab.kernel.invokeFunction('convertToInteractive',\n",
       "                                                    [key], {});\n",
       "        if (!dataTable) return;\n",
       "\n",
       "        const docLinkHtml = 'Like what you see? Visit the ' +\n",
       "          '<a target=\"_blank\" href=https://colab.research.google.com/notebooks/data_table.ipynb>data table notebook</a>'\n",
       "          + ' to learn more about interactive tables.';\n",
       "        element.innerHTML = '';\n",
       "        dataTable['output_type'] = 'display_data';\n",
       "        await google.colab.output.renderOutput(dataTable, element);\n",
       "        const docLink = document.createElement('div');\n",
       "        docLink.innerHTML = docLinkHtml;\n",
       "        element.appendChild(docLink);\n",
       "      }\n",
       "    </script>\n",
       "  </div>\n",
       "\n",
       "\n",
       "<div id=\"df-0e789c2b-3585-45fa-9b9b-8b70895a9bb5\">\n",
       "  <button class=\"colab-df-quickchart\" onclick=\"quickchart('df-0e789c2b-3585-45fa-9b9b-8b70895a9bb5')\"\n",
       "            title=\"Suggest charts\"\n",
       "            style=\"display:none;\">\n",
       "\n",
       "<svg xmlns=\"http://www.w3.org/2000/svg\" height=\"24px\"viewBox=\"0 0 24 24\"\n",
       "     width=\"24px\">\n",
       "    <g>\n",
       "        <path d=\"M19 3H5c-1.1 0-2 .9-2 2v14c0 1.1.9 2 2 2h14c1.1 0 2-.9 2-2V5c0-1.1-.9-2-2-2zM9 17H7v-7h2v7zm4 0h-2V7h2v10zm4 0h-2v-4h2v4z\"/>\n",
       "    </g>\n",
       "</svg>\n",
       "  </button>\n",
       "\n",
       "<style>\n",
       "  .colab-df-quickchart {\n",
       "      --bg-color: #E8F0FE;\n",
       "      --fill-color: #1967D2;\n",
       "      --hover-bg-color: #E2EBFA;\n",
       "      --hover-fill-color: #174EA6;\n",
       "      --disabled-fill-color: #AAA;\n",
       "      --disabled-bg-color: #DDD;\n",
       "  }\n",
       "\n",
       "  [theme=dark] .colab-df-quickchart {\n",
       "      --bg-color: #3B4455;\n",
       "      --fill-color: #D2E3FC;\n",
       "      --hover-bg-color: #434B5C;\n",
       "      --hover-fill-color: #FFFFFF;\n",
       "      --disabled-bg-color: #3B4455;\n",
       "      --disabled-fill-color: #666;\n",
       "  }\n",
       "\n",
       "  .colab-df-quickchart {\n",
       "    background-color: var(--bg-color);\n",
       "    border: none;\n",
       "    border-radius: 50%;\n",
       "    cursor: pointer;\n",
       "    display: none;\n",
       "    fill: var(--fill-color);\n",
       "    height: 32px;\n",
       "    padding: 0;\n",
       "    width: 32px;\n",
       "  }\n",
       "\n",
       "  .colab-df-quickchart:hover {\n",
       "    background-color: var(--hover-bg-color);\n",
       "    box-shadow: 0 1px 2px rgba(60, 64, 67, 0.3), 0 1px 3px 1px rgba(60, 64, 67, 0.15);\n",
       "    fill: var(--button-hover-fill-color);\n",
       "  }\n",
       "\n",
       "  .colab-df-quickchart-complete:disabled,\n",
       "  .colab-df-quickchart-complete:disabled:hover {\n",
       "    background-color: var(--disabled-bg-color);\n",
       "    fill: var(--disabled-fill-color);\n",
       "    box-shadow: none;\n",
       "  }\n",
       "\n",
       "  .colab-df-spinner {\n",
       "    border: 2px solid var(--fill-color);\n",
       "    border-color: transparent;\n",
       "    border-bottom-color: var(--fill-color);\n",
       "    animation:\n",
       "      spin 1s steps(1) infinite;\n",
       "  }\n",
       "\n",
       "  @keyframes spin {\n",
       "    0% {\n",
       "      border-color: transparent;\n",
       "      border-bottom-color: var(--fill-color);\n",
       "      border-left-color: var(--fill-color);\n",
       "    }\n",
       "    20% {\n",
       "      border-color: transparent;\n",
       "      border-left-color: var(--fill-color);\n",
       "      border-top-color: var(--fill-color);\n",
       "    }\n",
       "    30% {\n",
       "      border-color: transparent;\n",
       "      border-left-color: var(--fill-color);\n",
       "      border-top-color: var(--fill-color);\n",
       "      border-right-color: var(--fill-color);\n",
       "    }\n",
       "    40% {\n",
       "      border-color: transparent;\n",
       "      border-right-color: var(--fill-color);\n",
       "      border-top-color: var(--fill-color);\n",
       "    }\n",
       "    60% {\n",
       "      border-color: transparent;\n",
       "      border-right-color: var(--fill-color);\n",
       "    }\n",
       "    80% {\n",
       "      border-color: transparent;\n",
       "      border-right-color: var(--fill-color);\n",
       "      border-bottom-color: var(--fill-color);\n",
       "    }\n",
       "    90% {\n",
       "      border-color: transparent;\n",
       "      border-bottom-color: var(--fill-color);\n",
       "    }\n",
       "  }\n",
       "</style>\n",
       "\n",
       "  <script>\n",
       "    async function quickchart(key) {\n",
       "      const quickchartButtonEl =\n",
       "        document.querySelector('#' + key + ' button');\n",
       "      quickchartButtonEl.disabled = true;  // To prevent multiple clicks.\n",
       "      quickchartButtonEl.classList.add('colab-df-spinner');\n",
       "      try {\n",
       "        const charts = await google.colab.kernel.invokeFunction(\n",
       "            'suggestCharts', [key], {});\n",
       "      } catch (error) {\n",
       "        console.error('Error during call to suggestCharts:', error);\n",
       "      }\n",
       "      quickchartButtonEl.classList.remove('colab-df-spinner');\n",
       "      quickchartButtonEl.classList.add('colab-df-quickchart-complete');\n",
       "    }\n",
       "    (() => {\n",
       "      let quickchartButtonEl =\n",
       "        document.querySelector('#df-0e789c2b-3585-45fa-9b9b-8b70895a9bb5 button');\n",
       "      quickchartButtonEl.style.display =\n",
       "        google.colab.kernel.accessAllowed ? 'block' : 'none';\n",
       "    })();\n",
       "  </script>\n",
       "</div>\n",
       "\n",
       "    </div>\n",
       "  </div>\n"
      ],
      "text/plain": [
       "   id  qid1  qid2                                          question1  \\\n",
       "0   0     1     2  What is the step by step guide to invest in sh...   \n",
       "1   1     3     4  What is the story of Kohinoor (Koh-i-Noor) Dia...   \n",
       "2   2     5     6  How can I increase the speed of my internet co...   \n",
       "3   3     7     8  Why am I mentally very lonely? How can I solve...   \n",
       "4   4     9    10  Which one dissolve in water quikly sugar, salt...   \n",
       "\n",
       "                                           question2  is_duplicate  \n",
       "0  What is the step by step guide to invest in sh...             0  \n",
       "1  What would happen if the Indian government sto...             0  \n",
       "2  How can Internet speed be increased by hacking...             0  \n",
       "3  Find the remainder when [math]23^{24}[/math] i...             0  \n",
       "4            Which fish would survive in salt water?             0  "
      ]
     },
     "execution_count": 2,
     "metadata": {},
     "output_type": "execute_result"
    }
   ],
   "source": [
    "import pandas as pd\n",
    "import numpy as np\n",
    "df = pd.read_csv('/content/drive/MyDrive/quora/train.csv')\n",
    "df.head()"
   ]
  },
  {
   "cell_type": "markdown",
   "id": "3a2949ea-5c1e-4786-a144-0a3d49ccd9f7",
   "metadata": {},
   "source": [
    "## Removing Nan Values"
   ]
  },
  {
   "cell_type": "code",
   "execution_count": 3,
   "id": "989298bc-c094-4ea4-8f60-7df9dc971b4b",
   "metadata": {
    "colab": {
     "base_uri": "https://localhost:8080/",
     "height": 143
    },
    "id": "989298bc-c094-4ea4-8f60-7df9dc971b4b",
    "outputId": "2385ed82-b97c-4f54-da3c-2715d553e460"
   },
   "outputs": [
    {
     "data": {
      "application/vnd.google.colaboratory.intrinsic+json": {
       "summary": "{\n  \"name\": \"imp[(imp\",\n  \"rows\": 3,\n  \"fields\": [\n    {\n      \"column\": \"question1\",\n      \"properties\": {\n        \"dtype\": \"string\",\n        \"num_unique_values\": 2,\n        \"samples\": [\n          \"How can I create an Android app?\",\n          \"How can I develop android app?\"\n        ],\n        \"semantic_type\": \"\",\n        \"description\": \"\"\n      }\n    },\n    {\n      \"column\": \"question2\",\n      \"properties\": {\n        \"dtype\": \"category\",\n        \"num_unique_values\": 1,\n        \"samples\": [\n          \"My Chinese name is Haichao Yu. What English name is most suitable for me considering the pronounciation of my Chinese name?\"\n        ],\n        \"semantic_type\": \"\",\n        \"description\": \"\"\n      }\n    }\n  ]\n}",
       "type": "dataframe"
      },
      "text/html": [
       "\n",
       "  <div id=\"df-5e2caf8b-e61d-4198-b41e-6f626afe7d71\" class=\"colab-df-container\">\n",
       "    <div>\n",
       "<style scoped>\n",
       "    .dataframe tbody tr th:only-of-type {\n",
       "        vertical-align: middle;\n",
       "    }\n",
       "\n",
       "    .dataframe tbody tr th {\n",
       "        vertical-align: top;\n",
       "    }\n",
       "\n",
       "    .dataframe thead th {\n",
       "        text-align: right;\n",
       "    }\n",
       "</style>\n",
       "<table border=\"1\" class=\"dataframe\">\n",
       "  <thead>\n",
       "    <tr style=\"text-align: right;\">\n",
       "      <th></th>\n",
       "      <th>question1</th>\n",
       "      <th>question2</th>\n",
       "    </tr>\n",
       "  </thead>\n",
       "  <tbody>\n",
       "    <tr>\n",
       "      <th>105780</th>\n",
       "      <td>How can I develop android app?</td>\n",
       "      <td>NaN</td>\n",
       "    </tr>\n",
       "    <tr>\n",
       "      <th>201841</th>\n",
       "      <td>How can I create an Android app?</td>\n",
       "      <td>NaN</td>\n",
       "    </tr>\n",
       "    <tr>\n",
       "      <th>363362</th>\n",
       "      <td>NaN</td>\n",
       "      <td>My Chinese name is Haichao Yu. What English na...</td>\n",
       "    </tr>\n",
       "  </tbody>\n",
       "</table>\n",
       "</div>\n",
       "    <div class=\"colab-df-buttons\">\n",
       "\n",
       "  <div class=\"colab-df-container\">\n",
       "    <button class=\"colab-df-convert\" onclick=\"convertToInteractive('df-5e2caf8b-e61d-4198-b41e-6f626afe7d71')\"\n",
       "            title=\"Convert this dataframe to an interactive table.\"\n",
       "            style=\"display:none;\">\n",
       "\n",
       "  <svg xmlns=\"http://www.w3.org/2000/svg\" height=\"24px\" viewBox=\"0 -960 960 960\">\n",
       "    <path d=\"M120-120v-720h720v720H120Zm60-500h600v-160H180v160Zm220 220h160v-160H400v160Zm0 220h160v-160H400v160ZM180-400h160v-160H180v160Zm440 0h160v-160H620v160ZM180-180h160v-160H180v160Zm440 0h160v-160H620v160Z\"/>\n",
       "  </svg>\n",
       "    </button>\n",
       "\n",
       "  <style>\n",
       "    .colab-df-container {\n",
       "      display:flex;\n",
       "      gap: 12px;\n",
       "    }\n",
       "\n",
       "    .colab-df-convert {\n",
       "      background-color: #E8F0FE;\n",
       "      border: none;\n",
       "      border-radius: 50%;\n",
       "      cursor: pointer;\n",
       "      display: none;\n",
       "      fill: #1967D2;\n",
       "      height: 32px;\n",
       "      padding: 0 0 0 0;\n",
       "      width: 32px;\n",
       "    }\n",
       "\n",
       "    .colab-df-convert:hover {\n",
       "      background-color: #E2EBFA;\n",
       "      box-shadow: 0px 1px 2px rgba(60, 64, 67, 0.3), 0px 1px 3px 1px rgba(60, 64, 67, 0.15);\n",
       "      fill: #174EA6;\n",
       "    }\n",
       "\n",
       "    .colab-df-buttons div {\n",
       "      margin-bottom: 4px;\n",
       "    }\n",
       "\n",
       "    [theme=dark] .colab-df-convert {\n",
       "      background-color: #3B4455;\n",
       "      fill: #D2E3FC;\n",
       "    }\n",
       "\n",
       "    [theme=dark] .colab-df-convert:hover {\n",
       "      background-color: #434B5C;\n",
       "      box-shadow: 0px 1px 3px 1px rgba(0, 0, 0, 0.15);\n",
       "      filter: drop-shadow(0px 1px 2px rgba(0, 0, 0, 0.3));\n",
       "      fill: #FFFFFF;\n",
       "    }\n",
       "  </style>\n",
       "\n",
       "    <script>\n",
       "      const buttonEl =\n",
       "        document.querySelector('#df-5e2caf8b-e61d-4198-b41e-6f626afe7d71 button.colab-df-convert');\n",
       "      buttonEl.style.display =\n",
       "        google.colab.kernel.accessAllowed ? 'block' : 'none';\n",
       "\n",
       "      async function convertToInteractive(key) {\n",
       "        const element = document.querySelector('#df-5e2caf8b-e61d-4198-b41e-6f626afe7d71');\n",
       "        const dataTable =\n",
       "          await google.colab.kernel.invokeFunction('convertToInteractive',\n",
       "                                                    [key], {});\n",
       "        if (!dataTable) return;\n",
       "\n",
       "        const docLinkHtml = 'Like what you see? Visit the ' +\n",
       "          '<a target=\"_blank\" href=https://colab.research.google.com/notebooks/data_table.ipynb>data table notebook</a>'\n",
       "          + ' to learn more about interactive tables.';\n",
       "        element.innerHTML = '';\n",
       "        dataTable['output_type'] = 'display_data';\n",
       "        await google.colab.output.renderOutput(dataTable, element);\n",
       "        const docLink = document.createElement('div');\n",
       "        docLink.innerHTML = docLinkHtml;\n",
       "        element.appendChild(docLink);\n",
       "      }\n",
       "    </script>\n",
       "  </div>\n",
       "\n",
       "\n",
       "<div id=\"df-9f51a880-e0f5-4663-8328-f348b7c8af6e\">\n",
       "  <button class=\"colab-df-quickchart\" onclick=\"quickchart('df-9f51a880-e0f5-4663-8328-f348b7c8af6e')\"\n",
       "            title=\"Suggest charts\"\n",
       "            style=\"display:none;\">\n",
       "\n",
       "<svg xmlns=\"http://www.w3.org/2000/svg\" height=\"24px\"viewBox=\"0 0 24 24\"\n",
       "     width=\"24px\">\n",
       "    <g>\n",
       "        <path d=\"M19 3H5c-1.1 0-2 .9-2 2v14c0 1.1.9 2 2 2h14c1.1 0 2-.9 2-2V5c0-1.1-.9-2-2-2zM9 17H7v-7h2v7zm4 0h-2V7h2v10zm4 0h-2v-4h2v4z\"/>\n",
       "    </g>\n",
       "</svg>\n",
       "  </button>\n",
       "\n",
       "<style>\n",
       "  .colab-df-quickchart {\n",
       "      --bg-color: #E8F0FE;\n",
       "      --fill-color: #1967D2;\n",
       "      --hover-bg-color: #E2EBFA;\n",
       "      --hover-fill-color: #174EA6;\n",
       "      --disabled-fill-color: #AAA;\n",
       "      --disabled-bg-color: #DDD;\n",
       "  }\n",
       "\n",
       "  [theme=dark] .colab-df-quickchart {\n",
       "      --bg-color: #3B4455;\n",
       "      --fill-color: #D2E3FC;\n",
       "      --hover-bg-color: #434B5C;\n",
       "      --hover-fill-color: #FFFFFF;\n",
       "      --disabled-bg-color: #3B4455;\n",
       "      --disabled-fill-color: #666;\n",
       "  }\n",
       "\n",
       "  .colab-df-quickchart {\n",
       "    background-color: var(--bg-color);\n",
       "    border: none;\n",
       "    border-radius: 50%;\n",
       "    cursor: pointer;\n",
       "    display: none;\n",
       "    fill: var(--fill-color);\n",
       "    height: 32px;\n",
       "    padding: 0;\n",
       "    width: 32px;\n",
       "  }\n",
       "\n",
       "  .colab-df-quickchart:hover {\n",
       "    background-color: var(--hover-bg-color);\n",
       "    box-shadow: 0 1px 2px rgba(60, 64, 67, 0.3), 0 1px 3px 1px rgba(60, 64, 67, 0.15);\n",
       "    fill: var(--button-hover-fill-color);\n",
       "  }\n",
       "\n",
       "  .colab-df-quickchart-complete:disabled,\n",
       "  .colab-df-quickchart-complete:disabled:hover {\n",
       "    background-color: var(--disabled-bg-color);\n",
       "    fill: var(--disabled-fill-color);\n",
       "    box-shadow: none;\n",
       "  }\n",
       "\n",
       "  .colab-df-spinner {\n",
       "    border: 2px solid var(--fill-color);\n",
       "    border-color: transparent;\n",
       "    border-bottom-color: var(--fill-color);\n",
       "    animation:\n",
       "      spin 1s steps(1) infinite;\n",
       "  }\n",
       "\n",
       "  @keyframes spin {\n",
       "    0% {\n",
       "      border-color: transparent;\n",
       "      border-bottom-color: var(--fill-color);\n",
       "      border-left-color: var(--fill-color);\n",
       "    }\n",
       "    20% {\n",
       "      border-color: transparent;\n",
       "      border-left-color: var(--fill-color);\n",
       "      border-top-color: var(--fill-color);\n",
       "    }\n",
       "    30% {\n",
       "      border-color: transparent;\n",
       "      border-left-color: var(--fill-color);\n",
       "      border-top-color: var(--fill-color);\n",
       "      border-right-color: var(--fill-color);\n",
       "    }\n",
       "    40% {\n",
       "      border-color: transparent;\n",
       "      border-right-color: var(--fill-color);\n",
       "      border-top-color: var(--fill-color);\n",
       "    }\n",
       "    60% {\n",
       "      border-color: transparent;\n",
       "      border-right-color: var(--fill-color);\n",
       "    }\n",
       "    80% {\n",
       "      border-color: transparent;\n",
       "      border-right-color: var(--fill-color);\n",
       "      border-bottom-color: var(--fill-color);\n",
       "    }\n",
       "    90% {\n",
       "      border-color: transparent;\n",
       "      border-bottom-color: var(--fill-color);\n",
       "    }\n",
       "  }\n",
       "</style>\n",
       "\n",
       "  <script>\n",
       "    async function quickchart(key) {\n",
       "      const quickchartButtonEl =\n",
       "        document.querySelector('#' + key + ' button');\n",
       "      quickchartButtonEl.disabled = true;  // To prevent multiple clicks.\n",
       "      quickchartButtonEl.classList.add('colab-df-spinner');\n",
       "      try {\n",
       "        const charts = await google.colab.kernel.invokeFunction(\n",
       "            'suggestCharts', [key], {});\n",
       "      } catch (error) {\n",
       "        console.error('Error during call to suggestCharts:', error);\n",
       "      }\n",
       "      quickchartButtonEl.classList.remove('colab-df-spinner');\n",
       "      quickchartButtonEl.classList.add('colab-df-quickchart-complete');\n",
       "    }\n",
       "    (() => {\n",
       "      let quickchartButtonEl =\n",
       "        document.querySelector('#df-9f51a880-e0f5-4663-8328-f348b7c8af6e button');\n",
       "      quickchartButtonEl.style.display =\n",
       "        google.colab.kernel.accessAllowed ? 'block' : 'none';\n",
       "    })();\n",
       "  </script>\n",
       "</div>\n",
       "\n",
       "    </div>\n",
       "  </div>\n"
      ],
      "text/plain": [
       "                               question1  \\\n",
       "105780    How can I develop android app?   \n",
       "201841  How can I create an Android app?   \n",
       "363362                               NaN   \n",
       "\n",
       "                                                question2  \n",
       "105780                                                NaN  \n",
       "201841                                                NaN  \n",
       "363362  My Chinese name is Haichao Yu. What English na...  "
      ]
     },
     "execution_count": 3,
     "metadata": {},
     "output_type": "execute_result"
    }
   ],
   "source": [
    "imp = df[['question1','question2']]\n",
    "imp[(imp.iloc[:,0].isnull()) | (imp.iloc[:,1].isnull())]"
   ]
  },
  {
   "cell_type": "code",
   "execution_count": 4,
   "id": "f8d08a5d-3816-400a-a5d0-da58edfe9e97",
   "metadata": {
    "id": "f8d08a5d-3816-400a-a5d0-da58edfe9e97"
   },
   "outputs": [],
   "source": [
    "df.drop(index=[105780,201841,363362],inplace=True)"
   ]
  },
  {
   "cell_type": "markdown",
   "id": "da2fefc7-3c85-4fa7-8731-7959580b0e7d",
   "metadata": {},
   "source": [
    "## Preprocessing Data"
   ]
  },
  {
   "cell_type": "code",
   "execution_count": 5,
   "id": "e09905ff-d1ed-495b-829f-73f2e6f3f903",
   "metadata": {
    "id": "e09905ff-d1ed-495b-829f-73f2e6f3f903"
   },
   "outputs": [],
   "source": [
    "q1 = df['question1']\n",
    "q2 = df['question2']\n",
    "y = df['is_duplicate']"
   ]
  },
  {
   "cell_type": "code",
   "execution_count": 6,
   "id": "24b7331f-4a0d-4981-9c0d-3111955ee3de",
   "metadata": {
    "id": "24b7331f-4a0d-4981-9c0d-3111955ee3de"
   },
   "outputs": [],
   "source": [
    "def preprocess(df):\n",
    "    return df.str.replace(r\"\"\"[!\"#$%&'()*+,\\-./:;<=>?@[\\]^_`{|}~]\"\"\",r'',regex=True).str.lower()\n",
    "\n",
    "q1 = preprocess(q1)\n",
    "q2 = preprocess(q2)"
   ]
  },
  {
   "cell_type": "code",
   "execution_count": 7,
   "id": "2acd9b11-b46f-4b9e-9ae9-a7969ec28797",
   "metadata": {
    "colab": {
     "base_uri": "https://localhost:8080/"
    },
    "id": "2acd9b11-b46f-4b9e-9ae9-a7969ec28797",
    "outputId": "f5457453-4a8c-4bf5-ce6c-d2d061ea0ee9"
   },
   "outputs": [
    {
     "data": {
      "text/plain": [
       "111538"
      ]
     },
     "execution_count": 7,
     "metadata": {},
     "output_type": "execute_result"
    }
   ],
   "source": [
    "all_word = list(q1) + list(q2)\n",
    "from tensorflow.keras.preprocessing.text import Tokenizer\n",
    "tokenize = Tokenizer()\n",
    "tokenize.fit_on_texts(all_word)\n",
    "len(tokenize.word_index)"
   ]
  },
  {
   "cell_type": "code",
   "execution_count": 8,
   "id": "26gUeZJIUsbd",
   "metadata": {
    "colab": {
     "base_uri": "https://localhost:8080/"
    },
    "id": "26gUeZJIUsbd",
    "outputId": "0e5384db-3c25-454c-bc14-78f1b8323cb8"
   },
   "outputs": [
    {
     "name": "stderr",
     "output_type": "stream",
     "text": [
      "[nltk_data] Downloading package punkt to /root/nltk_data...\n",
      "[nltk_data]   Unzipping tokenizers/punkt.zip.\n"
     ]
    },
    {
     "data": {
      "text/plain": [
       "True"
      ]
     },
     "execution_count": 8,
     "metadata": {},
     "output_type": "execute_result"
    }
   ],
   "source": [
    "import nltk\n",
    "nltk.download('punkt')"
   ]
  },
  {
   "cell_type": "code",
   "execution_count": 9,
   "id": "ece530c0-8098-4271-90ba-a1936a780eb7",
   "metadata": {
    "id": "ece530c0-8098-4271-90ba-a1936a780eb7"
   },
   "outputs": [],
   "source": [
    "from nltk.tokenize import word_tokenize\n",
    "tokenize_sent = [word_tokenize(sent) for sent in all_word]\n"
   ]
  },
  {
   "cell_type": "markdown",
   "id": "beefee23-2094-44dd-8c32-18b43812b47e",
   "metadata": {},
   "source": [
    "## Training Word2Vec Model"
   ]
  },
  {
   "cell_type": "code",
   "execution_count": 10,
   "id": "6a958fee-b12b-4f95-bbc3-fdd0100fb738",
   "metadata": {
    "id": "6a958fee-b12b-4f95-bbc3-fdd0100fb738"
   },
   "outputs": [],
   "source": [
    "import gensim\n",
    "from gensim.models import Word2Vec,KeyedVectors\n",
    "\n",
    "model = Word2Vec(window=10,min_count =2,vector_size =100)\n",
    "model.build_vocab(tokenize_sent)\n"
   ]
  },
  {
   "cell_type": "code",
   "execution_count": 12,
   "id": "75db038a-2cd0-4eac-a037-b6bfb192b284",
   "metadata": {
    "colab": {
     "base_uri": "https://localhost:8080/"
    },
    "id": "75db038a-2cd0-4eac-a037-b6bfb192b284",
    "outputId": "321697ee-a5cb-48d5-ceb6-5b4dadf986e2"
   },
   "outputs": [
    {
     "data": {
      "text/plain": [
       "(126643476, 178835180)"
      ]
     },
     "execution_count": 12,
     "metadata": {},
     "output_type": "execute_result"
    }
   ],
   "source": [
    "model.train(tokenize_sent,total_examples=model.corpus_count,epochs=20)"
   ]
  },
  {
   "cell_type": "markdown",
   "id": "7f0fc785-4ac6-4408-b4c1-d15b6be9cff3",
   "metadata": {},
   "source": [
    "## Creating Embedding matrix"
   ]
  },
  {
   "cell_type": "code",
   "execution_count": 14,
   "id": "f210a060-f95c-451f-b301-db37337b4926",
   "metadata": {
    "id": "f210a060-f95c-451f-b301-db37337b4926"
   },
   "outputs": [],
   "source": [
    "vocab_size = len(tokenize.word_index)\n",
    "emb_dim = model.vector_size\n",
    "emb_matrix = np.zeros((vocab_size,emb_dim))\n",
    "\n",
    "dic = tokenize.word_index\n",
    "for word,val in dic.items():\n",
    "    try :\n",
    "        word_vec = model.wv[f'{word}']\n",
    "    except:\n",
    "        continue\n",
    "    if word_vec is not None:\n",
    "        emb_matrix[val] = word_vec"
   ]
  },
  {
   "cell_type": "code",
   "execution_count": null,
   "id": "9603c103-10f2-492e-9c77-52c2ce4a49a0",
   "metadata": {
    "colab": {
     "base_uri": "https://localhost:8080/"
    },
    "id": "9603c103-10f2-492e-9c77-52c2ce4a49a0",
    "outputId": "6e3e236d-2c80-4f8f-e564-0543b21cb4cc"
   },
   "outputs": [
    {
     "data": {
      "text/plain": [
       "array([[ 0.        ,  0.        ,  0.        , ...,  0.        ,\n",
       "         0.        ,  0.        ],\n",
       "       [-0.04107722, -0.90325308, -0.81035453, ..., -1.4768635 ,\n",
       "        -1.0956887 ,  1.46329701],\n",
       "       [ 0.97332007,  0.26848653, -0.15600407, ..., -3.01779151,\n",
       "        -1.89036489,  0.57131171],\n",
       "       ...,\n",
       "       [ 0.        ,  0.        ,  0.        , ...,  0.        ,\n",
       "         0.        ,  0.        ],\n",
       "       [ 0.        ,  0.        ,  0.        , ...,  0.        ,\n",
       "         0.        ,  0.        ],\n",
       "       [ 0.        ,  0.        ,  0.        , ...,  0.        ,\n",
       "         0.        ,  0.        ]])"
      ]
     },
     "execution_count": 19,
     "metadata": {},
     "output_type": "execute_result"
    }
   ],
   "source": [
    "emb_matrix"
   ]
  },
  {
   "cell_type": "markdown",
   "id": "8689f781-1b07-4798-9858-49761ebf2a57",
   "metadata": {},
   "source": [
    "## Tokenization and Padding"
   ]
  },
  {
   "cell_type": "code",
   "execution_count": 15,
   "id": "791ca3a8-eb57-4b5a-8b38-3e5925895949",
   "metadata": {
    "id": "791ca3a8-eb57-4b5a-8b38-3e5925895949"
   },
   "outputs": [],
   "source": [
    "q1_token = tokenize.texts_to_sequences(list(q1))\n",
    "q2_token = tokenize.texts_to_sequences(list(q2))"
   ]
  },
  {
   "cell_type": "code",
   "execution_count": 16,
   "id": "76cc930a-8178-457a-9b2a-9d3544920ca2",
   "metadata": {
    "colab": {
     "base_uri": "https://localhost:8080/"
    },
    "id": "76cc930a-8178-457a-9b2a-9d3544920ca2",
    "outputId": "aaa95715-39cc-4ecd-ac09-73ac4483921c"
   },
   "outputs": [
    {
     "data": {
      "text/plain": [
       "237"
      ]
     },
     "execution_count": 16,
     "metadata": {},
     "output_type": "execute_result"
    }
   ],
   "source": [
    "max_= 0\n",
    "for sent in q1_token:\n",
    "    if max_< len(sent):\n",
    "        max_ = len(sent)\n",
    "for sent in q2_token:\n",
    "    if max_< len(sent):\n",
    "        max_ = len(sent)\n",
    "max_"
   ]
  },
  {
   "cell_type": "code",
   "execution_count": 20,
   "id": "0fdd8545-b003-4563-92c3-c524e32d7821",
   "metadata": {
    "colab": {
     "base_uri": "https://localhost:8080/"
    },
    "id": "0fdd8545-b003-4563-92c3-c524e32d7821",
    "outputId": "62e8a236-3b71-4da3-dce5-42b0fb1b7242"
   },
   "outputs": [
    {
     "data": {
      "text/plain": [
       "array([[    0,     0,     0, ...,   372,     8,    35],\n",
       "       [    0,     0,     0, ..., 11869, 11869,  4558],\n",
       "       [    0,     0,     0, ...,   142,     6,  2772],\n",
       "       ...,\n",
       "       [    0,     0,     0, ...,     3,    49,  4324],\n",
       "       [    0,     0,     0, ...,    32,    81,   229],\n",
       "       [    0,     0,     0, ...,   150,    29,  4646]], dtype=int32)"
      ]
     },
     "execution_count": 20,
     "metadata": {},
     "output_type": "execute_result"
    }
   ],
   "source": [
    "from tensorflow.keras.utils import pad_sequences\n",
    "q1_padded = pad_sequences(q1_token,maxlen=max_)\n",
    "q2_padded = pad_sequences(q2_token,maxlen=max_)\n",
    "\n",
    "q1_padded"
   ]
  },
  {
   "cell_type": "code",
   "execution_count": 21,
   "id": "c04c7d3e-7e3b-486b-ae77-079733bceccd",
   "metadata": {
    "colab": {
     "base_uri": "https://localhost:8080/"
    },
    "id": "c04c7d3e-7e3b-486b-ae77-079733bceccd",
    "outputId": "b6067f34-6240-4e37-bd64-6b974d52fb3f"
   },
   "outputs": [
    {
     "data": {
      "text/plain": [
       "(404287, 237)"
      ]
     },
     "execution_count": 21,
     "metadata": {},
     "output_type": "execute_result"
    }
   ],
   "source": [
    "q2_padded.shape"
   ]
  },
  {
   "cell_type": "markdown",
   "id": "-GpTAYED67u9",
   "metadata": {
    "id": "-GpTAYED67u9"
   },
   "source": [
    "## Feature Engineering"
   ]
  },
  {
   "cell_type": "code",
   "execution_count": 41,
   "id": "uAI--25c9KoZ",
   "metadata": {
    "id": "uAI--25c9KoZ"
   },
   "outputs": [],
   "source": [
    "def common_word(row):\n",
    "  w1 = set(map(lambda word:word.lower().strip(),row['question1'].split(\" \")))\n",
    "  w2 = set(map(lambda word:word.lower().strip(),row['question2'].split(\" \")))\n",
    "  return len(w1 & w2)\n",
    "\n",
    "common_unique_words = df.apply(common_word,axis=1)"
   ]
  },
  {
   "cell_type": "code",
   "execution_count": 42,
   "id": "3I2qkJ5V_jXK",
   "metadata": {
    "colab": {
     "base_uri": "https://localhost:8080/"
    },
    "id": "3I2qkJ5V_jXK",
    "outputId": "f40f371c-fcea-49f8-ebc7-6a6991c88c07"
   },
   "outputs": [
    {
     "data": {
      "text/plain": [
       "0    10\n",
       "1     4\n",
       "2     4\n",
       "3     0\n",
       "4     2\n",
       "dtype: int64"
      ]
     },
     "execution_count": 42,
     "metadata": {},
     "output_type": "execute_result"
    }
   ],
   "source": [
    "common_unique_words.head()"
   ]
  },
  {
   "cell_type": "markdown",
   "id": "d5b60df0-5f46-42f3-96e9-5b21ec796675",
   "metadata": {
    "id": "d5b60df0-5f46-42f3-96e9-5b21ec796675"
   },
   "source": [
    "## Non Linear Model "
   ]
  },
  {
   "cell_type": "code",
   "execution_count": 43,
   "id": "449d8428-a1a0-4a9b-8ef3-0a9173eb7f98",
   "metadata": {
    "id": "449d8428-a1a0-4a9b-8ef3-0a9173eb7f98"
   },
   "outputs": [],
   "source": [
    "from tensorflow.keras.layers import Dense,Input,Embedding,LSTM,concatenate,BatchNormalization,Dropout\n",
    "from keras.models import Model"
   ]
  },
  {
   "cell_type": "code",
   "execution_count": 45,
   "id": "f644eb9c-80eb-40b4-bb27-a711a3cfd921",
   "metadata": {
    "colab": {
     "base_uri": "https://localhost:8080/"
    },
    "id": "f644eb9c-80eb-40b4-bb27-a711a3cfd921",
    "outputId": "37ddbcba-5285-4cc4-8445-b150a57eff0c"
   },
   "outputs": [
    {
     "name": "stdout",
     "output_type": "stream",
     "text": [
      "Model: \"model_1\"\n",
      "__________________________________________________________________________________________________\n",
      " Layer (type)                Output Shape                 Param #   Connected to                  \n",
      "==================================================================================================\n",
      " input_4 (InputLayer)        [(None, 237)]                0         []                            \n",
      "                                                                                                  \n",
      " input_5 (InputLayer)        [(None, 237)]                0         []                            \n",
      "                                                                                                  \n",
      " embedding_2 (Embedding)     (None, 237, 100)             1115380   ['input_4[0][0]']             \n",
      "                                                          0                                       \n",
      "                                                                                                  \n",
      " embedding_3 (Embedding)     (None, 237, 100)             1115380   ['input_5[0][0]']             \n",
      "                                                          0                                       \n",
      "                                                                                                  \n",
      " input_6 (InputLayer)        [(None, 1)]                  0         []                            \n",
      "                                                                                                  \n",
      " lstm_2 (LSTM)               (None, 150)                  150600    ['embedding_2[0][0]']         \n",
      "                                                                                                  \n",
      " lstm_3 (LSTM)               (None, 150)                  150600    ['embedding_3[0][0]']         \n",
      "                                                                                                  \n",
      " dense_5 (Dense)             (None, 150)                  300       ['input_6[0][0]']             \n",
      "                                                                                                  \n",
      " concatenate_1 (Concatenate  (None, 450)                  0         ['lstm_2[0][0]',              \n",
      " )                                                                   'lstm_3[0][0]',              \n",
      "                                                                     'dense_5[0][0]']             \n",
      "                                                                                                  \n",
      " batch_normalization_2 (Bat  (None, 450)                  1800      ['concatenate_1[0][0]']       \n",
      " chNormalization)                                                                                 \n",
      "                                                                                                  \n",
      " dropout_2 (Dropout)         (None, 450)                  0         ['batch_normalization_2[0][0]'\n",
      "                                                                    ]                             \n",
      "                                                                                                  \n",
      " dense_6 (Dense)             (None, 150)                  67650     ['dropout_2[0][0]']           \n",
      "                                                                                                  \n",
      " batch_normalization_3 (Bat  (None, 150)                  600       ['dense_6[0][0]']             \n",
      " chNormalization)                                                                                 \n",
      "                                                                                                  \n",
      " dropout_3 (Dropout)         (None, 150)                  0         ['batch_normalization_3[0][0]'\n",
      "                                                                    ]                             \n",
      "                                                                                                  \n",
      " dense_7 (Dense)             (None, 150)                  22650     ['dropout_3[0][0]']           \n",
      "                                                                                                  \n",
      " dense_8 (Dense)             (None, 150)                  22650     ['dense_7[0][0]']             \n",
      "                                                                                                  \n",
      " dense_9 (Dense)             (None, 1)                    151       ['dense_8[0][0]']             \n",
      "                                                                                                  \n",
      "==================================================================================================\n",
      "Total params: 22724601 (86.69 MB)\n",
      "Trainable params: 22723401 (86.68 MB)\n",
      "Non-trainable params: 1200 (4.69 KB)\n",
      "__________________________________________________________________________________________________\n"
     ]
    }
   ],
   "source": [
    "input_DIM = (q1_padded.shape[1],)\n",
    "input1 = Input(shape = input_DIM)\n",
    "input2 = Input(shape=input_DIM)\n",
    "\n",
    "Emb1 = Embedding(input_dim=emb_matrix.shape[0],output_dim=emb_matrix.shape[1],input_length = max_,weights=[emb_matrix])(input1)\n",
    "Emb2 = Embedding(input_dim=emb_matrix.shape[0],output_dim=emb_matrix.shape[1],input_length = max_,weights=[emb_matrix])(input2)\n",
    "\n",
    "LSTM1 = LSTM(150)(Emb1)\n",
    "LSTM2 = LSTM(150)(Emb2)\n",
    "\n",
    "##Common words\n",
    "input_common = Input(shape=(1,))\n",
    "\n",
    "c_dense = Dense(150,activation='relu')(input_common)\n",
    "\n",
    "\n",
    "combine = concatenate([LSTM1,LSTM2,c_dense])\n",
    "\n",
    "norm = BatchNormalization()(combine)\n",
    "drop = Dropout(0.5)(norm)\n",
    "\n",
    "d1 = Dense(150,activation='relu')(drop)\n",
    "\n",
    "norm2 = BatchNormalization()(d1)\n",
    "drop2 = Dropout(0.5)(norm2)\n",
    "\n",
    "##ANN\n",
    "\n",
    "hidden1 = Dense(150,activation='relu')(drop2)\n",
    "hidden2 = Dense(150,activation='relu')(hidden1)\n",
    "\n",
    "output = Dense(1,activation='sigmoid')(hidden2)\n",
    "\n",
    "model_final = Model(inputs=[input1,input2,input_common],outputs=output)\n",
    "model_final.summary()\n",
    "\n",
    "model_final.compile(loss='binary_crossentropy',optimizer='Adam',metrics=['accuracy'])"
   ]
  },
  {
   "cell_type": "code",
   "execution_count": 46,
   "id": "20fd0e6e-1036-4a8d-a867-5e5a82ab4795",
   "metadata": {
    "colab": {
     "base_uri": "https://localhost:8080/",
     "height": 1000
    },
    "id": "20fd0e6e-1036-4a8d-a867-5e5a82ab4795",
    "outputId": "eecf6b70-f859-4efc-baf2-c8cdf596402d",
    "scrolled": true
   },
   "outputs": [
    {
     "data": {
      "image/png": "[encoded data removed]",
      "text/plain": [
       "<IPython.core.display.Image object>"
      ]
     },
     "execution_count": 46,
     "metadata": {},
     "output_type": "execute_result"
    }
   ],
   "source": [
    "from keras.utils import plot_model\n",
    "plot_model(model_final)"
   ]
  },
  {
   "cell_type": "code",
   "execution_count": 50,
   "id": "8gGVk_3tZR2U",
   "metadata": {
    "id": "8gGVk_3tZR2U"
   },
   "outputs": [],
   "source": [
    "from sklearn.model_selection import train_test_split\n",
    "X1_train, X1_val, X2_train, X2_val,X3_train, X3_val, y_train, y_val = train_test_split(\n",
    "    q1_padded, q2_padded,common_unique_words ,y, test_size=0.2, random_state=42\n",
    ")"
   ]
  },
  {
   "cell_type": "code",
   "execution_count": 56,
   "id": "9056e92d-65f0-466b-befd-eaac02acbbf2",
   "metadata": {
    "colab": {
     "base_uri": "https://localhost:8080/"
    },
    "id": "9056e92d-65f0-466b-befd-eaac02acbbf2",
    "outputId": "002bcfca-59b0-409b-99ad-d9661e91c4fb"
   },
   "outputs": [
    {
     "name": "stdout",
     "output_type": "stream",
     "text": [
      "Epoch 1/10\n",
      "316/316 [==============================] - 110s 320ms/step - loss: 0.4813 - accuracy: 0.7455 - val_loss: 0.4467 - val_accuracy: 0.7639\n",
      "Epoch 2/10\n",
      "316/316 [==============================] - 95s 300ms/step - loss: 0.4296 - accuracy: 0.7812 - val_loss: 0.4050 - val_accuracy: 0.7948\n",
      "Epoch 3/10\n",
      "316/316 [==============================] - 93s 296ms/step - loss: 0.4010 - accuracy: 0.7994 - val_loss: 0.3928 - val_accuracy: 0.8038\n",
      "Epoch 4/10\n",
      "316/316 [==============================] - 93s 296ms/step - loss: 0.3812 - accuracy: 0.8129 - val_loss: 0.3821 - val_accuracy: 0.8104\n",
      "Epoch 5/10\n",
      "316/316 [==============================] - 88s 279ms/step - loss: 0.3598 - accuracy: 0.8264 - val_loss: 0.3852 - val_accuracy: 0.8101\n",
      "Epoch 6/10\n",
      "316/316 [==============================] - 93s 294ms/step - loss: 0.3336 - accuracy: 0.8421 - val_loss: 0.3772 - val_accuracy: 0.8187\n",
      "Epoch 7/10\n",
      "316/316 [==============================] - 88s 280ms/step - loss: 0.3061 - accuracy: 0.8580 - val_loss: 0.3769 - val_accuracy: 0.8195\n",
      "Epoch 8/10\n",
      "316/316 [==============================] - 93s 295ms/step - loss: 0.2787 - accuracy: 0.8726 - val_loss: 0.3900 - val_accuracy: 0.8205\n",
      "Epoch 9/10\n",
      "316/316 [==============================] - 95s 300ms/step - loss: 0.2561 - accuracy: 0.8848 - val_loss: 0.4040 - val_accuracy: 0.8190\n",
      "Epoch 10/10\n",
      "316/316 [==============================] - 89s 280ms/step - loss: 0.2349 - accuracy: 0.8954 - val_loss: 0.4144 - val_accuracy: 0.8221\n"
     ]
    }
   ],
   "source": [
    "##training Model\n",
    "history = model_final.fit([X1_train,X2_train,X3_train],y_train,validation_data=([X1_val,X2_val,X3_val],y_val),epochs=10,batch_size=1024)"
   ]
  },
  {
   "cell_type": "markdown",
   "id": "4075b6b5-5295-46e1-8afb-bf2f82941eca",
   "metadata": {
    "id": "w-OnZVWjA5Hn"
   },
   "source": [
    "## Result"
   ]
  },
  {
   "cell_type": "code",
   "execution_count": 58,
   "id": "423307a9-187c-409a-baa2-b9a033aebf19",
   "metadata": {
    "colab": {
     "base_uri": "https://localhost:8080/"
    },
    "id": "423307a9-187c-409a-baa2-b9a033aebf19",
    "outputId": "8077b54c-e922-4ec3-bc78-3638283dee7a"
   },
   "outputs": [
    {
     "name": "stdout",
     "output_type": "stream",
     "text": [
      "2527/2527 [==============================] - 24s 9ms/step\n",
      "0.8221078928491924\n"
     ]
    }
   ],
   "source": [
    "from sklearn.metrics import accuracy_score\n",
    "y_log = model_final.predict([X1_val,X2_val,X3_val])\n",
    "y_pred = np.where(y_log > 0.5,1,0)\n",
    "\n",
    "print(accuracy_score(y_true = y_val,y_pred = y_pred))"
   ]
  },
  {
   "cell_type": "code",
   "execution_count": 59,
   "id": "31c4e985-7f25-4a24-87fe-439c053dc94d",
   "metadata": {
    "colab": {
     "base_uri": "https://localhost:8080/",
     "height": 447
    },
    "id": "31c4e985-7f25-4a24-87fe-439c053dc94d",
    "outputId": "7d0505b5-03c6-407e-f0b5-221b91d511bf"
   },
   "outputs": [
    {
     "data": {
      "text/plain": [
       "<matplotlib.legend.Legend at 0x7f5eb986add0>"
      ]
     },
     "execution_count": 59,
     "metadata": {},
     "output_type": "execute_result"
    },
    {
     "data": {
      "image/png": "[encoded data removed]",
      "text/plain": [
       "<Figure size 640x480 with 1 Axes>"
      ]
     },
     "metadata": {},
     "output_type": "display_data"
    }
   ],
   "source": [
    "d = history.history\n",
    "\n",
    "import matplotlib.pyplot as plt\n",
    "plt.plot(d['loss'],label='train')\n",
    "plt.plot(d['val_loss'],label='test')\n",
    "plt.legend()"
   ]
  },
  {
   "cell_type": "code",
   "execution_count": 61,
   "id": "ViNcx7wNfsQj",
   "metadata": {
    "colab": {
     "base_uri": "https://localhost:8080/",
     "height": 447
    },
    "id": "ViNcx7wNfsQj",
    "outputId": "54c36c07-1ba4-4d8f-e659-e36f57f35deb"
   },
   "outputs": [
    {
     "data": {
      "text/plain": [
       "<matplotlib.legend.Legend at 0x7f5eb999fc10>"
      ]
     },
     "execution_count": 61,
     "metadata": {},
     "output_type": "execute_result"
    },
    {
     "data": {
      "image/png": "[encoded data removed]",
      "text/plain": [
       "<Figure size 640x480 with 1 Axes>"
      ]
     },
     "metadata": {},
     "output_type": "display_data"
    }
   ],
   "source": [
    "plt.plot(d['accuracy'],label='train')\n",
    "plt.plot(d['val_accuracy'],label='test')\n",
    "plt.legend()"
   ]
  },
  {
   "cell_type": "markdown",
   "id": "f182ad33-7bd2-4920-b603-cd0d0f8f9865",
   "metadata": {
    "id": "QNnZBzuMfsd9"
   },
   "source": [
    "## Using Pretrained Word2vec Model"
   ]
  },
  {
   "cell_type": "code",
   "execution_count": null,
   "id": "vNAV5MBKfshr",
   "metadata": {
    "id": "vNAV5MBKfshr"
   },
   "outputs": [],
   "source": [
    "import gensim.downloader"
   ]
  },
  {
   "cell_type": "code",
   "execution_count": null,
   "id": "OvwxfkBrftQC",
   "metadata": {
    "colab": {
     "base_uri": "https://localhost:8080/"
    },
    "id": "OvwxfkBrftQC",
    "outputId": "791dc138-1a4c-478d-c2c3-85384b2827e6"
   },
   "outputs": [
    {
     "name": "stdout",
     "output_type": "stream",
     "text": [
      "['fasttext-wiki-news-subwords-300', 'conceptnet-numberbatch-17-06-300', 'word2vec-ruscorpora-300', 'word2vec-google-news-300', 'glove-wiki-gigaword-50', 'glove-wiki-gigaword-100', 'glove-wiki-gigaword-200', 'glove-wiki-gigaword-300', 'glove-twitter-25', 'glove-twitter-50', 'glove-twitter-100', 'glove-twitter-200', '__testing_word2vec-matrix-synopsis']\n"
     ]
    }
   ],
   "source": [
    "print(list(gensim.downloader.info()['models'].keys()))"
   ]
  },
  {
   "cell_type": "code",
   "execution_count": null,
   "id": "8Qtp4uD2fvp4",
   "metadata": {
    "colab": {
     "base_uri": "https://localhost:8080/"
    },
    "id": "8Qtp4uD2fvp4",
    "outputId": "39583125-ca38-4f90-c9a0-f64fa1cbbaf1"
   },
   "outputs": [
    {
     "name": "stdout",
     "output_type": "stream",
     "text": [
      "[==================================================] 100.0% 1662.8/1662.8MB downloaded\n"
     ]
    }
   ],
   "source": [
    "word2vec_vectors = gensim.downloader.load('word2vec-google-news-300')"
   ]
  },
  {
   "cell_type": "code",
   "execution_count": null,
   "id": "oO7BIOAvgM7T",
   "metadata": {
    "id": "oO7BIOAvgM7T"
   },
   "outputs": [],
   "source": [
    "dic = tokenize.word_index\n"
   ]
  },
  {
   "cell_type": "code",
   "execution_count": null,
   "id": "l5G9paD-jRZs",
   "metadata": {
    "id": "l5G9paD-jRZs"
   },
   "outputs": [],
   "source": [
    "vocab_size = len(tokenize.word_index)\n",
    "emb_matrix = np.zeros((vocab_size+1,300))\n",
    "for word,val in dic.items():\n",
    "    try :\n",
    "        word_vec = word2vec_vectors[f'{word}']\n",
    "    except:\n",
    "        continue\n",
    "    if word_vec is not None:\n",
    "        emb_matrix[val] = word_vec"
   ]
  },
  {
   "cell_type": "code",
   "execution_count": null,
   "id": "A3UHg9ZAj1V4",
   "metadata": {
    "colab": {
     "base_uri": "https://localhost:8080/"
    },
    "id": "A3UHg9ZAj1V4",
    "outputId": "e77b9921-b384-47f4-e3e5-846c42c28555"
   },
   "outputs": [
    {
     "data": {
      "text/plain": [
       "array([[ 0.        ,  0.        ,  0.        , ...,  0.        ,\n",
       "         0.        ,  0.        ],\n",
       "       [ 0.08007812,  0.10498047,  0.04980469, ...,  0.00366211,\n",
       "         0.04760742, -0.06884766],\n",
       "       [ 0.13964844, -0.00616455,  0.21484375, ...,  0.05712891,\n",
       "         0.09960938, -0.234375  ],\n",
       "       ...,\n",
       "       [ 0.        ,  0.        ,  0.        , ...,  0.        ,\n",
       "         0.        ,  0.        ],\n",
       "       [ 0.        ,  0.        ,  0.        , ...,  0.        ,\n",
       "         0.        ,  0.        ],\n",
       "       [-0.10498047,  0.23535156,  0.08935547, ..., -0.08691406,\n",
       "         0.12451172, -0.12304688]])"
      ]
     },
     "execution_count": 39,
     "metadata": {},
     "output_type": "execute_result"
    }
   ],
   "source": [
    "emb_matrix"
   ]
  },
  {
   "cell_type": "code",
   "execution_count": null,
   "id": "Ai-cFtrqj-QE",
   "metadata": {
    "colab": {
     "base_uri": "https://localhost:8080/"
    },
    "id": "Ai-cFtrqj-QE",
    "outputId": "1c06d964-31e3-4da5-87ac-5b11fe5a325c"
   },
   "outputs": [
    {
     "name": "stdout",
     "output_type": "stream",
     "text": [
      "Model: \"model\"\n",
      "__________________________________________________________________________________________________\n",
      " Layer (type)                Output Shape                 Param #   Connected to                  \n",
      "==================================================================================================\n",
      " input_1 (InputLayer)        [(None, 237)]                0         []                            \n",
      "                                                                                                  \n",
      " input_2 (InputLayer)        [(None, 237)]                0         []                            \n",
      "                                                                                                  \n",
      " embedding (Embedding)       (None, 237, 300)             3346170   ['input_1[0][0]']             \n",
      "                                                          0                                       \n",
      "                                                                                                  \n",
      " embedding_1 (Embedding)     (None, 237, 300)             3346170   ['input_2[0][0]']             \n",
      "                                                          0                                       \n",
      "                                                                                                  \n",
      " lstm (LSTM)                 (None, 150)                  270600    ['embedding[0][0]']           \n",
      "                                                                                                  \n",
      " lstm_1 (LSTM)               (None, 150)                  270600    ['embedding_1[0][0]']         \n",
      "                                                                                                  \n",
      " concatenate (Concatenate)   (None, 300)                  0         ['lstm[0][0]',                \n",
      "                                                                     'lstm_1[0][0]']              \n",
      "                                                                                                  \n",
      " batch_normalization (Batch  (None, 300)                  1200      ['concatenate[0][0]']         \n",
      " Normalization)                                                                                   \n",
      "                                                                                                  \n",
      " dropout (Dropout)           (None, 300)                  0         ['batch_normalization[0][0]'] \n",
      "                                                                                                  \n",
      " dense (Dense)               (None, 150)                  45150     ['dropout[0][0]']             \n",
      "                                                                                                  \n",
      " batch_normalization_1 (Bat  (None, 150)                  600       ['dense[0][0]']               \n",
      " chNormalization)                                                                                 \n",
      "                                                                                                  \n",
      " dropout_1 (Dropout)         (None, 150)                  0         ['batch_normalization_1[0][0]'\n",
      "                                                                    ]                             \n",
      "                                                                                                  \n",
      " dense_1 (Dense)             (None, 150)                  22650     ['dropout_1[0][0]']           \n",
      "                                                                                                  \n",
      " dense_2 (Dense)             (None, 150)                  22650     ['dense_1[0][0]']             \n",
      "                                                                                                  \n",
      " dense_3 (Dense)             (None, 1)                    151       ['dense_2[0][0]']             \n",
      "                                                                                                  \n",
      "==================================================================================================\n",
      "Total params: 67557001 (257.71 MB)\n",
      "Trainable params: 67556101 (257.71 MB)\n",
      "Non-trainable params: 900 (3.52 KB)\n",
      "__________________________________________________________________________________________________\n"
     ]
    }
   ],
   "source": [
    "\n",
    "input_DIM = (q1_padded.shape[1],)\n",
    "input1 = Input(shape = input_DIM)\n",
    "input2 = Input(shape=input_DIM)\n",
    "\n",
    "Emb1 = Embedding(input_dim=emb_matrix.shape[0],output_dim=emb_matrix.shape[1],input_length = max_,weights=[emb_matrix])(input1)\n",
    "Emb2 = Embedding(input_dim=emb_matrix.shape[0],output_dim=emb_matrix.shape[1],input_length = max_,weights=[emb_matrix])(input2)\n",
    "\n",
    "LSTM1 = LSTM(150)(Emb1)\n",
    "LSTM2 = LSTM(150)(Emb2)\n",
    "\n",
    "combine = concatenate([LSTM1,LSTM2])\n",
    "\n",
    "norm = BatchNormalization()(combine)\n",
    "drop = Dropout(0.5)(norm)\n",
    "\n",
    "d1 = Dense(150,activation='relu')(drop)\n",
    "\n",
    "norm2 = BatchNormalization()(d1)\n",
    "drop2 = Dropout(0.5)(norm2)\n",
    "\n",
    "##ANN\n",
    "\n",
    "hidden1 = Dense(150,activation='relu')(drop2)\n",
    "hidden2 = Dense(150,activation='relu')(hidden1)\n",
    "\n",
    "output = Dense(1,activation='sigmoid')(hidden2)\n",
    "\n",
    "model_final = Model(inputs=[input1,input2],outputs=output)\n",
    "model_final.summary()\n",
    "\n",
    "model_final.compile(loss='binary_crossentropy',optimizer='Adam',metrics=['accuracy'])"
   ]
  },
  {
   "cell_type": "code",
   "execution_count": null,
   "id": "H6m1A07hkSLx",
   "metadata": {
    "colab": {
     "base_uri": "https://localhost:8080/"
    },
    "id": "H6m1A07hkSLx",
    "outputId": "afc43e06-fcae-4eb2-988e-65f3c1f8a13f"
   },
   "outputs": [
    {
     "name": "stdout",
     "output_type": "stream",
     "text": [
      "Epoch 1/10\n",
      "316/316 [==============================] - 165s 489ms/step - loss: 0.5352 - accuracy: 0.7297 - val_loss: 0.5290 - val_accuracy: 0.7609\n",
      "Epoch 2/10\n",
      "316/316 [==============================] - 140s 442ms/step - loss: 0.4499 - accuracy: 0.7860 - val_loss: 0.4659 - val_accuracy: 0.7675\n",
      "Epoch 3/10\n",
      "316/316 [==============================] - 142s 450ms/step - loss: 0.3934 - accuracy: 0.8173 - val_loss: 0.4589 - val_accuracy: 0.7826\n",
      "Epoch 4/10\n",
      "316/316 [==============================] - 142s 450ms/step - loss: 0.3424 - accuracy: 0.8436 - val_loss: 0.4831 - val_accuracy: 0.7812\n",
      "Epoch 5/10\n",
      "316/316 [==============================] - 142s 451ms/step - loss: 0.2975 - accuracy: 0.8659 - val_loss: 0.5107 - val_accuracy: 0.7757\n",
      "Epoch 6/10\n",
      "316/316 [==============================] - 142s 450ms/step - loss: 0.2621 - accuracy: 0.8835 - val_loss: 0.5338 - val_accuracy: 0.7802\n",
      "Epoch 7/10\n",
      "316/316 [==============================] - 140s 444ms/step - loss: 0.2339 - accuracy: 0.8968 - val_loss: 0.6270 - val_accuracy: 0.7674\n",
      "Epoch 8/10\n",
      "316/316 [==============================] - 142s 450ms/step - loss: 0.2092 - accuracy: 0.9088 - val_loss: 0.6761 - val_accuracy: 0.7730\n",
      "Epoch 9/10\n",
      "316/316 [==============================] - 140s 444ms/step - loss: 0.1892 - accuracy: 0.9185 - val_loss: 0.6807 - val_accuracy: 0.7756\n",
      "Epoch 10/10\n",
      "316/316 [==============================] - 142s 451ms/step - loss: 0.1709 - accuracy: 0.9276 - val_loss: 0.7381 - val_accuracy: 0.7793\n"
     ]
    }
   ],
   "source": [
    "history = model_final.fit([X1_train,X2_train],y_train,validation_data=([X1_val,X2_val],y_val),epochs=10,batch_size=1024)"
   ]
  },
  {
   "cell_type": "code",
   "execution_count": null,
   "id": "2xSVE2kZkuzr",
   "metadata": {
    "colab": {
     "base_uri": "https://localhost:8080/"
    },
    "id": "2xSVE2kZkuzr",
    "outputId": "bb963e73-4101-4266-b27e-ed7ad1cef603"
   },
   "outputs": [
    {
     "name": "stdout",
     "output_type": "stream",
     "text": [
      "2527/2527 [==============================] - 26s 10ms/step\n",
      "0.7793291943901655\n"
     ]
    }
   ],
   "source": [
    "from sklearn.metrics import accuracy_score\n",
    "y_log = model_final.predict([X1_val,X2_val])\n",
    "y_pred = np.where(y_log > 0.5,1,0)\n",
    "\n",
    "print(accuracy_score(y_true = y_val,y_pred = y_pred))"
   ]
  },
  {
   "cell_type": "code",
   "execution_count": null,
   "id": "HJJ277FEk28d",
   "metadata": {
    "colab": {
     "base_uri": "https://localhost:8080/",
     "height": 447
    },
    "id": "HJJ277FEk28d",
    "outputId": "096db150-2b12-4fb2-f710-05b40ed6ca32"
   },
   "outputs": [
    {
     "data": {
      "text/plain": [
       "<matplotlib.legend.Legend at 0x7cd45821be80>"
      ]
     },
     "execution_count": 54,
     "metadata": {},
     "output_type": "execute_result"
    },
    {
     "data": {
      "image/png": "[encoded data removed]",
      "text/plain": [
       "<Figure size 640x480 with 1 Axes>"
      ]
     },
     "metadata": {},
     "output_type": "display_data"
    }
   ],
   "source": [
    "d = history.history\n",
    "\n",
    "import matplotlib.pyplot as plt\n",
    "plt.plot(d['loss'],label='train')\n",
    "plt.plot(d['val_loss'],label='test')\n",
    "plt.legend()"
   ]
  },
  {
   "cell_type": "code",
   "execution_count": null,
   "id": "nLQQ5TKIqevL",
   "metadata": {
    "id": "nLQQ5TKIqevL"
   },
   "outputs": [],
   "source": []
  }
 ],
 "metadata": {
  "accelerator": "GPU",
  "colab": {
   "gpuType": "T4",
   "provenance": []
  },
  "kernelspec": {
   "display_name": "Python 3 (ipykernel)",
   "language": "python",
   "name": "python3"
  },
  "language_info": {
   "codemirror_mode": {
    "name": "ipython",
    "version": 3
   },
   "file_extension": ".py",
   "mimetype": "text/x-python",
   "name": "python",
   "nbconvert_exporter": "python",
   "pygments_lexer": "ipython3",
   "version": "3.12.1"
  }
 },
 "nbformat": 4,
 "nbformat_minor": 5
}
